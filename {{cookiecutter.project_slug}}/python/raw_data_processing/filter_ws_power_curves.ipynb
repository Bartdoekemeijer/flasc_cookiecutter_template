{
 "cells": [
  {
   "attachments": {},
   "cell_type": "markdown",
   "metadata": {},
   "source": [
    "# **Import dependencies**"
   ]
  },
  {
   "cell_type": "code",
   "execution_count": null,
   "metadata": {},
   "outputs": [],
   "source": [
    "import os\n",
    "\n",
    "from matplotlib import pyplot as plt\n",
    "import numpy as np\n",
    "import pandas as pd\n",
    "from flasc.dataframe_operations import (\n",
    "    dataframe_filtering as dff,\n",
    "    dataframe_manipulations as dfm,\n",
    ")\n",
    "from flasc.turbine_analysis.find_sensor_faults import filter_sensor_faults\n",
    "from flasc.turbine_analysis import ws_pow_filtering as wspf\n",
    "\n",
    "from {{cookiecutter.project_slug}}.models import load_floris"
   ]
  },
  {
   "cell_type": "code",
   "execution_count": null,
   "metadata": {},
   "outputs": [],
   "source": [
    "# User settings\n",
    "save_figures = True\n",
    "plot_figures_in_notebook = True"
   ]
  },
  {
   "attachments": {},
   "cell_type": "markdown",
   "metadata": {},
   "source": [
    "# **Step 0**: Initial data pulldown\n",
    "First, we import the data from the common_windfarm_information folder. This may take a while, so we keep these variables unchanged. These are df_scada_raw and df_metmast_raw. These variables are not manipulated throughout the script."
   ]
  },
  {
   "cell_type": "code",
   "execution_count": null,
   "metadata": {},
   "outputs": [],
   "source": [
    "def load_data():\n",
    "    root_path = os.getcwd()\n",
    "    source_path = os.path.join(root_path, \"..\", \"..\", \"common_windfarm_information\")\n",
    "    df_scada_raw = pd.read_csv(\n",
    "        os.path.join(source_path, \"demo_dataset_scada_600s.csv\")\n",
    "    )\n",
    "    df_metmast_raw = pd.read_csv(\n",
    "        os.path.join(source_path, \"demo_dataset_metmast_600s.csv\")\n",
    "    )\n",
    "\n",
    "    # Drop first and \"empty\" column with indices\n",
    "    df_scada_raw = df_scada_raw.drop(df_scada_raw.columns[0], axis=1)\n",
    "    df_metmast_raw = df_metmast_raw.drop(df_metmast_raw.columns[0], axis=1)\n",
    "\n",
    "    print(\"Columns available in df_scada_raw: {}.\".format(list(df_scada_raw.columns)))\n",
    "    return df_scada_raw, df_metmast_raw\n",
    "\n",
    "df_scada_raw, df_metmast_raw = load_data()"
   ]
  },
  {
   "attachments": {},
   "cell_type": "markdown",
   "metadata": {},
   "source": [
    "# **Step 1**: Format to common FLASC format\n",
    "Now create a copy of df_scada_raw and df_metmast_raw which we can manipulate and filter."
   ]
  },
  {
   "cell_type": "code",
   "execution_count": null,
   "metadata": {},
   "outputs": [],
   "source": [
    "# Now make a copy of the raw data files for processing and manipulation\n",
    "df_scada = df_scada_raw.copy()\n",
    "df_metmast = df_metmast_raw.copy()"
   ]
  },
  {
   "attachments": {},
   "cell_type": "markdown",
   "metadata": {},
   "source": [
    "Format df_scada to pour the dataframe into the common FLASC format. For example, wind speeds are columns denoted by ws_{ti}, with {ti} the turbine number with prevailing zeros. Hence, for wind speed for the third turbine is defined by ws_002, and the power production of the thirteenth turbine is defined by pow_012."
   ]
  },
  {
   "cell_type": "code",
   "execution_count": null,
   "metadata": {},
   "outputs": [],
   "source": [
    "def format_dataframes(df_scada, df_metmast):\n",
    "    # Format columns and data. The operations required differ per dataset.\n",
    "    df_scada[\"time\"] = pd.to_datetime(df_scada[\"time\"])  # Convert strings to timestamps\n",
    "    df_metmast[\"time\"] = pd.to_datetime(df_metmast[\"time\"])  # Convert strings to timestamps\n",
    "\n",
    "    # In FLORIS, turbines are numbered from 0 to nturbs - 1. In SCADA data,\n",
    "    # turbines often have a different name. We save the mapping between\n",
    "    # the turbine indices in FLORIS and the turbine names to a separate .csv\n",
    "    # file.\n",
    "    root_path = os.getcwd()\n",
    "    out_path = os.path.join(root_path, \"postprocessed\")\n",
    "    os.makedirs(out_path, exist_ok=True)\n",
    "    turbine_names = [\"A1\", \"A2\", \"A3\", \"B1\", \"B2\", \"C1\", \"C2\"]\n",
    "    pd.DataFrame({\"turbine_names\": turbine_names}).to_csv(\n",
    "        os.path.join(out_path, \"turbine_names.csv\")\n",
    "    )\n",
    "\n",
    "    # Now map columns to conventional format\n",
    "    scada_dict = {}\n",
    "    for ii, tn in enumerate(turbine_names):\n",
    "        scada_dict.update(\n",
    "            {\n",
    "                \"ActivePower_{:s}\".format(tn): \"pow_{:03d}\".format(ii),\n",
    "                \"NacWSpeed_{:s}\".format(tn): \"ws_{:03d}\".format(ii),\n",
    "                \"NacTI_{:s}\".format(tn): \"ti_{:03d}\".format(ii),\n",
    "                \"NacWDir_{:s}\".format(tn): \"wd_{:03d}\".format(ii),\n",
    "                \"is_operation_normal_{:s}\".format(tn): \"is_operation_normal_{:03d}\".format(ii),\n",
    "            }\n",
    "        )\n",
    "\n",
    "    df_list = []\n",
    "    print(\"formatting dataframe...\")\n",
    "    df_scada = df_scada.rename(columns=scada_dict)\n",
    "\n",
    "    # Reduce precision in dataframe to use half of the memory\n",
    "    df_scada = dfm.df_reduce_precision(df_scada, verbose=True)\n",
    "    df_metmast = dfm.df_reduce_precision(df_metmast, verbose=True)\n",
    "\n",
    "    # Sort dataframe and save\n",
    "    df_scada = df_scada.sort_values(axis=0, by=\"time\")\n",
    "    df_scada = df_scada.reset_index(drop=True)\n",
    "    print(\"Columns available in df_scada: {}.\".format(list(df_scada.columns)))\n",
    "\n",
    "    return df_scada, df_metmast\n",
    "\n",
    "print(df_scada.columns)\n",
    "df_scada, df_metmast = format_dataframes(df_scada, df_metmast)"
   ]
  },
  {
   "attachments": {},
   "cell_type": "markdown",
   "metadata": {},
   "source": [
    "# **Step 2**: Remove outliers using basic logic\n",
    "We remove outliers from the data using simple logic rules, e.g., wind speeds below 0 m/s, power productions below 0 W, and turbine flags that are provided with the data."
   ]
  },
  {
   "cell_type": "code",
   "execution_count": null,
   "metadata": {},
   "outputs": [],
   "source": [
    "def remove_outliers(df_scada):\n",
    "    # Now, check for simple outliers in the data\n",
    "    root_path = os.getcwd()\n",
    "    out_path = os.path.join(root_path, \"postprocessed\")\n",
    "    figs_path = os.path.join(out_path, \"figures\", \"02_basic_filters\")\n",
    "    os.makedirs(figs_path, exist_ok=True)\n",
    "\n",
    "    # Basic filters: address self flags and obviously wrong points\n",
    "    num_turbines = dfm.get_num_turbines(df_scada)\n",
    "    for ti in range(num_turbines):\n",
    "        # Specify filtering conditions\n",
    "        conds = [\n",
    "            ~df_scada[\"is_operation_normal_{:03d}\".format(ti)],  # Self-status\n",
    "            df_scada[\"ws_{:03d}\".format(ti)] <= 0.0,  # Non-negative wind speeds\n",
    "            df_scada[\"pow_{:03d}\".format(ti)] <= 0.0,\n",
    "        ]  # Non-negative powers\n",
    "\n",
    "        # Retrieve a single, combined condition array\n",
    "        conds_combined = conds[0]\n",
    "        for cond in conds:\n",
    "            conds_combined = conds_combined | cond\n",
    "\n",
    "        # Plot time vs filtered data\n",
    "        fig, ax = dff.plot_highlight_data_by_conds(df_scada, conds, ti)\n",
    "        ax.legend(\n",
    "            [\"All data\", \"Bad self-status\", \"Negative WS\", \"Negative power\"]\n",
    "        )\n",
    "\n",
    "        if save_figures:\n",
    "            fp = os.path.join(figs_path, \"basic_filtering_%03d.png\" % ti)\n",
    "            # print(\"Saving figure for turbine {:03d}.\".format(ti))\n",
    "            fig.savefig(fp, dpi=200)\n",
    "\n",
    "            if not plot_figures_in_notebook:\n",
    "                plt.close(fig)\n",
    "\n",
    "        # Apply filtering to dataframe\n",
    "        df_scada = dff.df_mark_turbdata_as_faulty(\n",
    "            df_scada, conds_combined, ti, verbose=True\n",
    "        )\n",
    "\n",
    "    # Remove unnecessary columns after filtering\n",
    "    self_status_cols = [\n",
    "        \"is_operation_normal_%03d\" % ti for ti in range(num_turbines)\n",
    "    ]\n",
    "    df_scada = df_scada.drop(columns=self_status_cols)  # Remove self status columns\n",
    "\n",
    "    return df_scada\n",
    "\n",
    "df_scada = remove_outliers(df_scada)"
   ]
  },
  {
   "attachments": {},
   "cell_type": "markdown",
   "metadata": {},
   "source": [
    "# **Step 3**: Removing sensor-stuck type of faults"
   ]
  },
  {
   "cell_type": "code",
   "execution_count": null,
   "metadata": {},
   "outputs": [],
   "source": [
    "def remove_sensor_stuck_faults(df, plot_figures, save_figures):\n",
    "    # Decide how figures should be saved\n",
    "    if save_figures:\n",
    "        root_path = os.getcwd()\n",
    "        figure_path = os.path.join(root_path, \"postprocessed\", \"figures\", \"03_sensor_faults_filtered\")\n",
    "    else:\n",
    "        figure_path = None\n",
    "\n",
    "    # Filter sensor faults\n",
    "    df_scada = filter_sensor_faults(\n",
    "        df=df,\n",
    "        columns=[\"wd\", \"ws\"],\n",
    "        plot_figures=plot_figures,\n",
    "        figure_save_path=figure_path\n",
    "    )\n",
    "    return df_scada\n",
    "\n",
    "df_scada = remove_sensor_stuck_faults(\n",
    "    df=df_scada,\n",
    "    plot_figures=plot_figures_in_notebook,\n",
    "    save_figures=save_figures\n",
    ")"
   ]
  },
  {
   "attachments": {},
   "cell_type": "markdown",
   "metadata": {},
   "source": [
    "# **Step 4**: Deal with wind-speed power curve filtering"
   ]
  },
  {
   "cell_type": "code",
   "execution_count": null,
   "metadata": {},
   "outputs": [],
   "source": [
    "def filter_by_ws_pow_curve(df, plot_figures, save_figures):\n",
    "    # Load the FLORIS model for the wind farm. This is not used for anything\n",
    "    # besides plotting the floris-predicted wind speed-power curve on top\n",
    "    # of the actual data.\n",
    "    fi = load_floris()\n",
    "\n",
    "    # Downsample data. Not necessary here, but can be useful if we have 1 Hz\n",
    "    # data available. Namely, it's hard to detect outliers on such a high\n",
    "    # resolution. Instead, we are better off downsampling the data to 60s or\n",
    "    # even 600s and filter the data based on decisions there. The following\n",
    "    # downsampled dataframe should then be inserted into the wind speed power\n",
    "    # curve filtering class. Mapping the filtering back to the high-resolution\n",
    "    # data is done by a couple lines of code as found at the end of this\n",
    "    # script.\n",
    "    #\n",
    "    # df_movavg, data_indices_mapping = top.df_movingaverage(\n",
    "    #     df_in=df_1s,\n",
    "    #     cols_angular=[\n",
    "    #         c for c in df_1s.columns if (\n",
    "    #             (\"vane_\" in c) or\n",
    "    #             (\"yaw_\" in c) or\n",
    "    #             (\"wd_\" in c) or\n",
    "    #             (\"direction\" in c)\n",
    "    #         )\n",
    "    #     ],\n",
    "    #     window_width=td(seconds=600),\n",
    "    #     calc_median_min_max_std=False,\n",
    "    #     return_index_mapping=True,\n",
    "    # )\n",
    "\n",
    "    # Create output directory\n",
    "    if (plot_figures) & (save_figures):\n",
    "        root_path = os.getcwd()\n",
    "        figure_save_path = os.path.join(root_path, \"postprocessed\", \"figures\", \"04_wspowcurve_filtered\")\n",
    "        os.makedirs(figure_save_path, exist_ok=True)\n",
    "    else:\n",
    "        figure_save_path = None\n",
    "\n",
    "    # Initialize the wind-speed power curve filtering class\n",
    "    turbine_list = \"all\"\n",
    "    # turbine_list = [5]  # Can also look at specific turbines\n",
    "    ws_pow_filtering = wspf.ws_pw_curve_filtering(\n",
    "        df=df, turbine_list=turbine_list, rated_powers=5000.0\n",
    "    )\n",
    "\n",
    "    # Add a window: all data to the left or right of this window is bad\n",
    "    # This is an easy way to remove curtailment if the default filtering\n",
    "    # methods do not or insufficiently pick up these outliers.\n",
    "    ws_pow_filtering.window_add(\n",
    "        ws_range=[0.0, 10.2],\n",
    "        pow_range=[3100.0, 3200.0],\n",
    "        axis=0,\n",
    "        turbines=\"all\",\n",
    "    )\n",
    "    ws_pow_filtering.filter_by_windows()\n",
    "\n",
    "    # Now filter by deviations from the median power curve\n",
    "    ws_pow_filtering.filter_by_power_curve()\n",
    "\n",
    "    # Plot and save data for current dataframe\n",
    "    ws_pow_filtering.plot_outliers_vs_time(save_path=figure_save_path)\n",
    "    ws_pow_filtering.plot(fi=fi, save_path=figure_save_path)\n",
    "\n",
    "    # Get filtered dataframe and power curve\n",
    "    df = ws_pow_filtering.get_df()\n",
    "    df_pow_curve = ws_pow_filtering.pw_curve_df\n",
    "\n",
    "    return df, df_pow_curve\n",
    "\n",
    "\n",
    "df_scada, df_pow_curve = filter_by_ws_pow_curve(\n",
    "    df=df_scada,\n",
    "    plot_figures=plot_figures_in_notebook,\n",
    "    save_figures=save_figures\n",
    ")\n",
    "\n",
    "# Extract and save turbine power curves estimated from the data\n",
    "root_path = os.getcwd()\n",
    "out_path = os.path.join(root_path, \"postprocessed\")\n",
    "df_pow_curve.to_csv(os.path.join(out_path, \"power_curves.csv\"))\n"
   ]
  },
  {
   "attachments": {},
   "cell_type": "markdown",
   "metadata": {},
   "source": [
    "# **Step 5**: Plot faults vs. the layout"
   ]
  },
  {
   "cell_type": "code",
   "execution_count": null,
   "metadata": {},
   "outputs": [],
   "source": [
    "def plot_faults_vs_layout(df):\n",
    "    fi = load_floris()\n",
    "\n",
    "    layout_x = fi.layout_x\n",
    "    layout_y = fi.layout_y\n",
    "\n",
    "    num_turbines = dfm.get_num_turbines(df)\n",
    "    fault_ratio = np.zeros(num_turbines)\n",
    "    for ti in range(num_turbines):\n",
    "        fault_ratio[ti] = (\n",
    "            dff.df_get_no_faulty_measurements(df, ti) / df.shape[0]\n",
    "        )\n",
    "\n",
    "    # Plot layout and colormap\n",
    "    fig, ax = plt.subplots(figsize=(14, 5))\n",
    "    for ti in range(num_turbines):\n",
    "        clr = [fault_ratio[ti], 1.0 - fault_ratio[ti], 0.0]\n",
    "        ax.plot(\n",
    "            layout_x[ti],\n",
    "            layout_y[ti],\n",
    "            \"o\",\n",
    "            markersize=15,\n",
    "            markerfacecolor=clr,\n",
    "            markeredgewidth=0.0,\n",
    "        )\n",
    "        ax.text(\n",
    "            layout_x[ti] + 100,\n",
    "            layout_y[ti],\n",
    "            \"T%03d (%.1f%%)\" % (ti, (1.0 - fault_ratio[ti]) * 100.0),\n",
    "            color=\"black\",\n",
    "        )\n",
    "    fig.tight_layout()\n",
    "\n",
    "    root_path = os.getcwd()\n",
    "    out_path = os.path.join(\n",
    "        root_path,\n",
    "        \"data\",\n",
    "        \"05_preliminary_fault_analysis\",\n",
    "        \"show_filtered_faults_by_layout\",\n",
    "    )\n",
    "    fig_out = os.path.join(out_path, \"faults_by_layout.png\")\n",
    "    print(\"Saving figure to {:s}.\".format(fig_out))\n",
    "    os.makedirs(out_path, exist_ok=True)\n",
    "    plt.savefig(fig_out, dpi=300)\n",
    "\n",
    "plot_faults_vs_layout(df_scada)"
   ]
  },
  {
   "attachments": {},
   "cell_type": "markdown",
   "metadata": {},
   "source": [
    "# **Save postprocessed data** to a local file"
   ]
  },
  {
   "cell_type": "code",
   "execution_count": null,
   "metadata": {},
   "outputs": [],
   "source": [
    "root_path = os.getcwd()\n",
    "fout = os.path.join(root_path, \"postprocessed\", \"df_scada_600s_wspowfiltered.ftr\")\n",
    "df_scada.to_feather(fout)\n",
    "print(\"File saved to '{:s}'.\".format(os.path.relpath(fout)))"
   ]
  },
  {
   "cell_type": "code",
   "execution_count": null,
   "metadata": {},
   "outputs": [],
   "source": [
    "# Print all (remaining) figures\n",
    "plt.show()"
   ]
  }
 ],
 "metadata": {
  "kernelspec": {
   "display_name": ".floris",
   "language": "python",
   "name": "python3"
  },
  "language_info": {
   "codemirror_mode": {
    "name": "ipython",
    "version": 3
   },
   "file_extension": ".py",
   "mimetype": "text/x-python",
   "name": "python",
   "nbconvert_exporter": "python",
   "pygments_lexer": "ipython3",
   "version": "3.9.5"
  },
  "orig_nbformat": 4,
  "vscode": {
   "interpreter": {
    "hash": "8f733c0fbb301080c2bcf96db7ac54d1ef0d7be04117d635d35c165c40504989"
   }
  }
 },
 "nbformat": 4,
 "nbformat_minor": 2
}
